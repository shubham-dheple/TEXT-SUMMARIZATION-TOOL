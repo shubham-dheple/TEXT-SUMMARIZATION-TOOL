{
 "cells": [
  {
   "cell_type": "code",
   "execution_count": null,
   "id": "9b4e97a8-dad4-4d93-a7d4-96416bb29f9d",
   "metadata": {},
   "outputs": [],
   "source": [
    "\n"
   ]
  },
  {
   "cell_type": "code",
   "execution_count": 1,
   "id": "d0c954aa-a87a-472c-a373-f362566cd6e7",
   "metadata": {},
   "outputs": [],
   "source": [
    "from sumy.parsers.plaintext import PlaintextParser\n",
    "from sumy.nlp.tokenizers import Tokenizer\n",
    "from sumy.summarizers.lsa import LsaSummarizer\n",
    "\n",
    "def summarize_text(text, sentence_count=3):\n",
    "    parser = PlaintextParser.from_string(text, Tokenizer(\"english\"))\n",
    "    summarizer = LsaSummarizer()\n",
    "    summary = summarizer(parser.document, sentence_count)\n",
    "    return \" \".join(str(sentence) for sentence in summary)\n"
   ]
  },
  {
   "cell_type": "code",
   "execution_count": 2,
   "id": "1c9bc040-b1bf-44ba-9bb0-e212e1e960b5",
   "metadata": {},
   "outputs": [
    {
     "name": "stdout",
     "output_type": "stream",
     "text": [
      "Summary:\n",
      " It has applications in various fields such as healthcare, finance, education, and transportation. However, AI also raises ethical concerns about privacy, job displacement, and bias in decision-making systems.\n"
     ]
    }
   ],
   "source": [
    "input_text = \"\"\"\n",
    "Artificial Intelligence (AI) is rapidly transforming the way we live and work. It has applications \n",
    "in various fields such as healthcare, finance, education, and transportation. By analyzing large \n",
    "amounts of data, AI systems can detect patterns, make predictions, and even make decisions.\n",
    "However, AI also raises ethical concerns about privacy, job displacement, and bias in decision-making systems.\n",
    "Therefore, it is important to develop AI responsibly and ensure it is used for the benefit of all.\n",
    "\"\"\"\n",
    "\n",
    "# Set how many summary sentences you want\n",
    "summary_result = summarize_text(input_text, sentence_count=2)\n",
    "print(\"Summary:\\n\", summary_result)\n"
   ]
  },
  {
   "cell_type": "code",
   "execution_count": 8,
   "id": "2240833b-ac2b-44cc-a985-63e9d01d18a7",
   "metadata": {},
   "outputs": [],
   "source": [
    "import numpy as np"
   ]
  },
  {
   "cell_type": "code",
   "execution_count": null,
   "id": "502d1e55-c9a5-4d76-b1f1-36ab4477e02d",
   "metadata": {},
   "outputs": [],
   "source": []
  }
 ],
 "metadata": {
  "kernelspec": {
   "display_name": "Python (myenv)",
   "language": "python",
   "name": "myenv"
  },
  "language_info": {
   "codemirror_mode": {
    "name": "ipython",
    "version": 3
   },
   "file_extension": ".py",
   "mimetype": "text/x-python",
   "name": "python",
   "nbconvert_exporter": "python",
   "pygments_lexer": "ipython3",
   "version": "3.11.0rc1"
  }
 },
 "nbformat": 4,
 "nbformat_minor": 5
}
